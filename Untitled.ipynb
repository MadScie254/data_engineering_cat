{
 "cells": [
  {
   "cell_type": "code",
   "execution_count": null,
   "id": "9cf76acd-0ab3-41e5-b189-4548c8317cae",
   "metadata": {},
   "outputs": [],
   "source": []
  }
 ],
 "metadata": {
  "kernelspec": {
   "display_name": "",
   "name": ""
  },
  "language_info": {
   "name": ""
  }
 },
 "nbformat": 4,
 "nbformat_minor": 5
}
