{
 "cells": [
  {
   "cell_type": "code",
   "execution_count": 12,
   "id": "5ac9f4f3-ee16-4838-b6e6-0be409f30197",
   "metadata": {},
   "outputs": [
    {
     "name": "stdout",
     "output_type": "stream",
     "text": [
      "First five records:\n",
      "    User ID  Gender  Age  EstimatedSalary  Purchased\n",
      "0  15624510    Male   19            19000          0\n",
      "1  15810944    Male   35            20000          0\n",
      "2  15668575  Female   26            43000          0\n",
      "3  15603246  Female   27            57000          0\n",
      "4  15804002    Male   19            76000          0\n",
      "\n",
      "Mean of numerical columns:\n",
      "Age                   37.6550\n",
      "EstimatedSalary    69742.5000\n",
      "Purchased              0.3575\n",
      "dtype: float64\n",
      "\n",
      "Mode of all columns:\n",
      "User ID            15566689\n",
      "Gender               Female\n",
      "Age                    35.0\n",
      "EstimatedSalary     72000.0\n",
      "Purchased               0.0\n",
      "Name: 0, dtype: object\n"
     ]
    }
   ],
   "source": [
    "import pandas as pd\n",
    "\n",
    "# Load the dataset\n",
    "df = pd.read_csv('Social_Network_Ads 2.csv')\n",
    "\n",
    "# Display the first five records\n",
    "print(\"First five records:\")\n",
    "print(df.head())\n",
    "\n",
    "# Calculate mean for numerical columns (Age, EstimatedSalary, Purchased)\n",
    "print(\"\\nMean of numerical columns:\")\n",
    "print(df[['Age', 'EstimatedSalary', 'Purchased']].mean())\n",
    "\n",
    "# Calculate mode for all columns\n",
    "print(\"\\nMode of all columns:\")\n",
    "print(df.mode().iloc[0])  # Shows the first mode if there are multiple"
   ]
  },
  {
   "cell_type": "markdown",
   "id": "b7177ec9-cadf-4145-a909-d921cf9b2713",
   "metadata": {},
   "source": [
    "## This part is for the diagram you asked for the normalized database"
   ]
  },
  {
   "cell_type": "code",
   "execution_count": 27,
   "id": "421f5c6a-b7e4-4cee-b1ee-bfdea11f55da",
   "metadata": {},
   "outputs": [
    {
     "name": "stdout",
     "output_type": "stream",
     "text": [
      "ER Diagram saved as normalized_database_erd.png\n"
     ]
    }
   ],
   "source": [
    "from graphviz import Digraph\n",
    "\n",
    "# Create a new directed graph\n",
    "dot = Digraph('ER Diagram', format='png')\n",
    "dot.attr(rankdir='LR', size='10')\n",
    "\n",
    "# Define the nodes (tables)\n",
    "dot.node('Staff', '''<\n",
    "    <table border=\"1\" cellborder=\"0\" cellspacing=\"0\">\n",
    "    <tr><td><b>Staff</b></td></tr>\n",
    "    <tr><td>StaffID (PK)</td></tr>\n",
    "    <tr><td>StaffName</td></tr>\n",
    "    <tr><td>StaffTelephone</td></tr>\n",
    "    <tr><td>StaffStreet</td></tr>\n",
    "    <tr><td>PostCode</td></tr>\n",
    "    <tr><td>StaffType</td></tr>\n",
    "    <tr><td>StartDate</td></tr>\n",
    "    <tr><td>JobID (FK)</td></tr>\n",
    "    </table>\n",
    ">''', shape='plaintext')\n",
    "\n",
    "dot.node('Job', '''<\n",
    "    <table border=\"1\" cellborder=\"0\" cellspacing=\"0\">\n",
    "    <tr><td><b>Job</b></td></tr>\n",
    "    <tr><td>JobID (PK)</td></tr>\n",
    "    <tr><td>JobTitle</td></tr>\n",
    "    <tr><td>SchoolID (FK)</td></tr>\n",
    "    </table>\n",
    ">''', shape='plaintext')\n",
    "\n",
    "dot.node('School', '''<\n",
    "    <table border=\"1\" cellborder=\"0\" cellspacing=\"0\">\n",
    "    <tr><td><b>School</b></td></tr>\n",
    "    <tr><td>SchoolID (PK)</td></tr>\n",
    "    <tr><td>SchoolName</td></tr>\n",
    "    </table>\n",
    ">''', shape='plaintext')\n",
    "\n",
    "dot.node('Performance', '''<\n",
    "    <table border=\"1\" cellborder=\"0\" cellspacing=\"0\">\n",
    "    <tr><td><b>Performance</b></td></tr>\n",
    "    <tr><td>MeetingID (PK)</td></tr>\n",
    "    <tr><td>StaffID (FK)</td></tr>\n",
    "    <tr><td>MeetingDate</td></tr>\n",
    "    <tr><td>PerformanceGrade</td></tr>\n",
    "    </table>\n",
    ">''', shape='plaintext')\n",
    "\n",
    "# Define the relationships (edges)\n",
    "dot.edge('Staff', 'Job', label='JobID (FK)')\n",
    "dot.edge('Job', 'School', label='SchoolID (FK)')\n",
    "dot.edge('Performance', 'Staff', label='StaffID (FK)')\n",
    "\n",
    "# Render the diagram\n",
    "output_file = 'normalized_database_erd'\n",
    "dot.render(output_file, format='png', cleanup=True)\n",
    "\n",
    "# Display success message\n",
    "print(f\"ER Diagram saved as {output_file}.png\")"
   ]
  },
  {
   "cell_type": "code",
   "execution_count": null,
   "id": "77207312-3030-402e-8722-55f3f63dcbe7",
   "metadata": {},
   "outputs": [],
   "source": []
  }
 ],
 "metadata": {
  "kernelspec": {
   "display_name": "Python [conda env:base] *",
   "language": "python",
   "name": "conda-base-py"
  },
  "language_info": {
   "codemirror_mode": {
    "name": "ipython",
    "version": 3
   },
   "file_extension": ".py",
   "mimetype": "text/x-python",
   "name": "python",
   "nbconvert_exporter": "python",
   "pygments_lexer": "ipython3",
   "version": "3.12.7"
  }
 },
 "nbformat": 4,
 "nbformat_minor": 5
}
